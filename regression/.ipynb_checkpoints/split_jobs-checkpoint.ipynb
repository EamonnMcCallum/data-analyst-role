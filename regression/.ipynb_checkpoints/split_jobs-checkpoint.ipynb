{
 "cells": [
  {
   "cell_type": "code",
   "execution_count": 90,
   "metadata": {},
   "outputs": [],
   "source": [
    "from matplotlib import pyplot as plt\n",
    "import numpy as np\n",
    "import pandas as pd\n",
    "import statsmodels.api as sm\n",
    "from sklearn.linear_model import LogisticRegression"
   ]
  },
  {
   "cell_type": "code",
   "execution_count": 91,
   "metadata": {},
   "outputs": [],
   "source": [
    "raw_df = pd.read_csv(\"/Users/eamonnmccallum/Monash-DS/gwil_wrk1/data/gwil_datv2.csv\")"
   ]
  },
  {
   "cell_type": "code",
   "execution_count": 92,
   "metadata": {},
   "outputs": [
    {
     "data": {
      "text/html": [
       "<div>\n",
       "<style scoped>\n",
       "    .dataframe tbody tr th:only-of-type {\n",
       "        vertical-align: middle;\n",
       "    }\n",
       "\n",
       "    .dataframe tbody tr th {\n",
       "        vertical-align: top;\n",
       "    }\n",
       "\n",
       "    .dataframe thead th {\n",
       "        text-align: right;\n",
       "    }\n",
       "</style>\n",
       "<table border=\"1\" class=\"dataframe\">\n",
       "  <thead>\n",
       "    <tr style=\"text-align: right;\">\n",
       "      <th></th>\n",
       "      <th>ID</th>\n",
       "      <th>UNI_ID</th>\n",
       "      <th>UNI_TITLE</th>\n",
       "      <th>GROUP</th>\n",
       "      <th>MED</th>\n",
       "      <th>JOB CAT</th>\n",
       "      <th>JOB ID</th>\n",
       "      <th>JOB_TITLE</th>\n",
       "      <th>YEAR</th>\n",
       "      <th>VALUE</th>\n",
       "    </tr>\n",
       "  </thead>\n",
       "  <tbody>\n",
       "    <tr>\n",
       "      <th>0</th>\n",
       "      <td>2023</td>\n",
       "      <td>1</td>\n",
       "      <td>Australian Catholic University</td>\n",
       "      <td>3</td>\n",
       "      <td>0</td>\n",
       "      <td>1</td>\n",
       "      <td>1</td>\n",
       "      <td>HEW Level 1</td>\n",
       "      <td>1999</td>\n",
       "      <td>0.0</td>\n",
       "    </tr>\n",
       "    <tr>\n",
       "      <th>1</th>\n",
       "      <td>2040</td>\n",
       "      <td>1</td>\n",
       "      <td>Australian Catholic University</td>\n",
       "      <td>3</td>\n",
       "      <td>0</td>\n",
       "      <td>1</td>\n",
       "      <td>1</td>\n",
       "      <td>HEW Level 1</td>\n",
       "      <td>2000</td>\n",
       "      <td>0.0</td>\n",
       "    </tr>\n",
       "    <tr>\n",
       "      <th>2</th>\n",
       "      <td>2057</td>\n",
       "      <td>1</td>\n",
       "      <td>Australian Catholic University</td>\n",
       "      <td>3</td>\n",
       "      <td>0</td>\n",
       "      <td>1</td>\n",
       "      <td>1</td>\n",
       "      <td>HEW Level 1</td>\n",
       "      <td>2001</td>\n",
       "      <td>0.0</td>\n",
       "    </tr>\n",
       "    <tr>\n",
       "      <th>3</th>\n",
       "      <td>2074</td>\n",
       "      <td>1</td>\n",
       "      <td>Australian Catholic University</td>\n",
       "      <td>3</td>\n",
       "      <td>0</td>\n",
       "      <td>1</td>\n",
       "      <td>1</td>\n",
       "      <td>HEW Level 1</td>\n",
       "      <td>2002</td>\n",
       "      <td>0.0</td>\n",
       "    </tr>\n",
       "    <tr>\n",
       "      <th>4</th>\n",
       "      <td>2091</td>\n",
       "      <td>1</td>\n",
       "      <td>Australian Catholic University</td>\n",
       "      <td>3</td>\n",
       "      <td>0</td>\n",
       "      <td>1</td>\n",
       "      <td>1</td>\n",
       "      <td>HEW Level 1</td>\n",
       "      <td>2003</td>\n",
       "      <td>0.0</td>\n",
       "    </tr>\n",
       "    <tr>\n",
       "      <th>...</th>\n",
       "      <td>...</td>\n",
       "      <td>...</td>\n",
       "      <td>...</td>\n",
       "      <td>...</td>\n",
       "      <td>...</td>\n",
       "      <td>...</td>\n",
       "      <td>...</td>\n",
       "      <td>...</td>\n",
       "      <td>...</td>\n",
       "      <td>...</td>\n",
       "    </tr>\n",
       "    <tr>\n",
       "      <th>13918</th>\n",
       "      <td>15862</td>\n",
       "      <td>39</td>\n",
       "      <td>Western Sydney University</td>\n",
       "      <td>3</td>\n",
       "      <td>1</td>\n",
       "      <td>1</td>\n",
       "      <td>2</td>\n",
       "      <td>HEW Level 2</td>\n",
       "      <td>2015</td>\n",
       "      <td>0.0</td>\n",
       "    </tr>\n",
       "    <tr>\n",
       "      <th>13919</th>\n",
       "      <td>15879</td>\n",
       "      <td>39</td>\n",
       "      <td>Western Sydney University</td>\n",
       "      <td>3</td>\n",
       "      <td>1</td>\n",
       "      <td>1</td>\n",
       "      <td>2</td>\n",
       "      <td>HEW Level 2</td>\n",
       "      <td>2016</td>\n",
       "      <td>0.0</td>\n",
       "    </tr>\n",
       "    <tr>\n",
       "      <th>13920</th>\n",
       "      <td>15896</td>\n",
       "      <td>39</td>\n",
       "      <td>Western Sydney University</td>\n",
       "      <td>3</td>\n",
       "      <td>1</td>\n",
       "      <td>1</td>\n",
       "      <td>2</td>\n",
       "      <td>HEW Level 2</td>\n",
       "      <td>2017</td>\n",
       "      <td>0.0</td>\n",
       "    </tr>\n",
       "    <tr>\n",
       "      <th>13921</th>\n",
       "      <td>15666</td>\n",
       "      <td>39</td>\n",
       "      <td>Western Sydney University</td>\n",
       "      <td>3</td>\n",
       "      <td>1</td>\n",
       "      <td>1</td>\n",
       "      <td>10</td>\n",
       "      <td>HEW Level 10</td>\n",
       "      <td>2003</td>\n",
       "      <td>0.0</td>\n",
       "    </tr>\n",
       "    <tr>\n",
       "      <th>13922</th>\n",
       "      <td>15700</td>\n",
       "      <td>39</td>\n",
       "      <td>Western Sydney University</td>\n",
       "      <td>3</td>\n",
       "      <td>1</td>\n",
       "      <td>1</td>\n",
       "      <td>10</td>\n",
       "      <td>HEW Level 10</td>\n",
       "      <td>2005</td>\n",
       "      <td>0.0</td>\n",
       "    </tr>\n",
       "  </tbody>\n",
       "</table>\n",
       "<p>13923 rows × 10 columns</p>\n",
       "</div>"
      ],
      "text/plain": [
       "          ID  UNI_ID                       UNI_TITLE  GROUP  MED  JOB CAT  \\\n",
       "0       2023       1  Australian Catholic University      3    0        1   \n",
       "1       2040       1  Australian Catholic University      3    0        1   \n",
       "2       2057       1  Australian Catholic University      3    0        1   \n",
       "3       2074       1  Australian Catholic University      3    0        1   \n",
       "4       2091       1  Australian Catholic University      3    0        1   \n",
       "...      ...     ...                             ...    ...  ...      ...   \n",
       "13918  15862      39       Western Sydney University      3    1        1   \n",
       "13919  15879      39       Western Sydney University      3    1        1   \n",
       "13920  15896      39       Western Sydney University      3    1        1   \n",
       "13921  15666      39       Western Sydney University      3    1        1   \n",
       "13922  15700      39       Western Sydney University      3    1        1   \n",
       "\n",
       "       JOB ID     JOB_TITLE  YEAR  VALUE  \n",
       "0           1   HEW Level 1  1999    0.0  \n",
       "1           1   HEW Level 1  2000    0.0  \n",
       "2           1   HEW Level 1  2001    0.0  \n",
       "3           1   HEW Level 1  2002    0.0  \n",
       "4           1   HEW Level 1  2003    0.0  \n",
       "...       ...           ...   ...    ...  \n",
       "13918       2   HEW Level 2  2015    0.0  \n",
       "13919       2   HEW Level 2  2016    0.0  \n",
       "13920       2   HEW Level 2  2017    0.0  \n",
       "13921      10  HEW Level 10  2003    0.0  \n",
       "13922      10  HEW Level 10  2005    0.0  \n",
       "\n",
       "[13923 rows x 10 columns]"
      ]
     },
     "execution_count": 92,
     "metadata": {},
     "output_type": "execute_result"
    }
   ],
   "source": [
    "raw_df"
   ]
  },
  {
   "cell_type": "code",
   "execution_count": 93,
   "metadata": {},
   "outputs": [
    {
     "data": {
      "text/plain": [
       "array(['HEW Level 1', 'Casuals academic', 'SE ',\n",
       "       'Academic level A or below', 'Academic level B ',\n",
       "       'Academic level C ', 'Academic level D and E',\n",
       "       'Casuals non-academic', 'HEW Level 2', 'HEW Level 10',\n",
       "       'HEW Level 9', 'HEW Level 8', 'HEW Level 7', 'HEW Level 3',\n",
       "       'HEW Level 6', 'HEW Level 5', 'HEW Level 4'], dtype=object)"
      ]
     },
     "execution_count": 93,
     "metadata": {},
     "output_type": "execute_result"
    }
   ],
   "source": [
    "raw_df[\"JOB_TITLE\"].unique()"
   ]
  },
  {
   "cell_type": "code",
   "execution_count": 94,
   "metadata": {},
   "outputs": [],
   "source": [
    "job_df = raw_df[[\"JOB_TITLE\", \"JOB ID\",\"YEAR\", \"VALUE\",\"GROUP\" ,\"MED\"]]"
   ]
  },
  {
   "cell_type": "code",
   "execution_count": 95,
   "metadata": {},
   "outputs": [],
   "source": [
    "### NEXT HEW GROUP !!!\n",
    "#BINS SETUP \n",
    "#bins\n",
    "#1 = hew 1-4\n",
    "#2 = hew 5-7\n",
    "#3 = hew 8-9\n",
    "#4= hew10-se 10 17\n",
    "#5 = A\n",
    "#6 = B\n",
    "#7 = C\n",
    "#8 = D & E\n",
    "#9 = casual non-aced\n",
    "#10 = casual\n",
    "#11 = SE\n",
    "bins = [0,4,7,9,10,11,12,13,14,15,16,17]"
   ]
  },
  {
   "cell_type": "code",
   "execution_count": 96,
   "metadata": {},
   "outputs": [
    {
     "name": "stderr",
     "output_type": "stream",
     "text": [
      "/opt/anaconda3/lib/python3.7/site-packages/ipykernel_launcher.py:3: SettingWithCopyWarning: \n",
      "A value is trying to be set on a copy of a slice from a DataFrame.\n",
      "Try using .loc[row_indexer,col_indexer] = value instead\n",
      "\n",
      "See the caveats in the documentation: https://pandas.pydata.org/pandas-docs/stable/user_guide/indexing.html#returning-a-view-versus-a-copy\n",
      "  This is separate from the ipykernel package so we can avoid doing imports until\n"
     ]
    }
   ],
   "source": [
    "job_bins = job_df\n",
    "labels = [1,2,3,4,5,6,7,8,9,10,11]\n",
    "job_bins[\"BINS\"] = pd.cut(job_bins[\"JOB ID\"], bins, labels=labels, include_lowest=True)\n"
   ]
  },
  {
   "cell_type": "code",
   "execution_count": 97,
   "metadata": {},
   "outputs": [
    {
     "name": "stderr",
     "output_type": "stream",
     "text": [
      "/opt/anaconda3/lib/python3.7/site-packages/ipykernel_launcher.py:2: SettingWithCopyWarning: \n",
      "A value is trying to be set on a copy of a slice from a DataFrame.\n",
      "Try using .loc[row_indexer,col_indexer] = value instead\n",
      "\n",
      "See the caveats in the documentation: https://pandas.pydata.org/pandas-docs/stable/user_guide/indexing.html#returning-a-view-versus-a-copy\n",
      "  \n"
     ]
    }
   ],
   "source": [
    "# bins column was originally object needed to be turned to int\n",
    "job_bins[\"BINS\"] = pd.to_numeric(job_bins[\"BINS\"])"
   ]
  },
  {
   "cell_type": "code",
   "execution_count": 98,
   "metadata": {},
   "outputs": [],
   "source": [
    "# Manual split of types to create custom\n",
    "hew1_4 = job_bins.loc[(job_bins[\"BINS\"]== 1)]\n",
    "hew5_7 = job_bins.loc[(job_bins[\"BINS\"]== 2)]\n",
    "hew8_9 = job_bins.loc[(job_bins[\"BINS\"]== 3)]\n",
    "hew10 = job_bins.loc[(job_bins[\"BINS\"]== 4)]\n",
    "acad_a = job_bins.loc[(job_bins[\"BINS\"]== 5)]\n",
    "acad_b = job_bins.loc[(job_bins[\"BINS\"]== 6)]\n",
    "acad_c = job_bins.loc[(job_bins[\"BINS\"]== 7)]\n",
    "acad_d = job_bins.loc[(job_bins[\"BINS\"]== 8)]\n",
    "cas_na = job_bins.loc[(job_bins[\"BINS\"]== 9)]\n",
    "cas_ac = job_bins.loc[(job_bins[\"BINS\"]== 10)]\n",
    "se = job_bins.loc[(job_bins[\"BINS\"]== 11)]"
   ]
  },
  {
   "cell_type": "code",
   "execution_count": 99,
   "metadata": {},
   "outputs": [],
   "source": [
    "###### hew 5 to 7 #####\n"
   ]
  },
  {
   "cell_type": "code",
   "execution_count": 100,
   "metadata": {},
   "outputs": [],
   "source": [
    "#### Hew 8 to 9 #####"
   ]
  },
  {
   "cell_type": "code",
   "execution_count": 101,
   "metadata": {},
   "outputs": [],
   "source": [
    "hew8_9 = job_bins.loc[(job_bins[\"BINS\"]== 3)]"
   ]
  },
  {
   "cell_type": "code",
   "execution_count": 102,
   "metadata": {},
   "outputs": [],
   "source": [
    "#### HEW 10 ####\n",
    "hew10 = job_bins.loc[(job_bins[\"BINS\"]== 4)]"
   ]
  },
  {
   "cell_type": "code",
   "execution_count": 103,
   "metadata": {},
   "outputs": [],
   "source": [
    "### Academdic A Group"
   ]
  },
  {
   "cell_type": "code",
   "execution_count": 104,
   "metadata": {},
   "outputs": [],
   "source": [
    "acad_a = job_bins.loc[(job_bins[\"BINS\"]== 5)]"
   ]
  },
  {
   "cell_type": "code",
   "execution_count": 105,
   "metadata": {},
   "outputs": [],
   "source": [
    "### Academdic B Group"
   ]
  },
  {
   "cell_type": "code",
   "execution_count": 106,
   "metadata": {},
   "outputs": [],
   "source": [
    "acad_b = job_bins.loc[(job_bins[\"BINS\"]== 6)]"
   ]
  },
  {
   "cell_type": "code",
   "execution_count": 107,
   "metadata": {},
   "outputs": [],
   "source": [
    "### Academic c "
   ]
  },
  {
   "cell_type": "code",
   "execution_count": 108,
   "metadata": {},
   "outputs": [],
   "source": [
    "acad_c = job_bins.loc[(job_bins[\"BINS\"]== 7)]"
   ]
  },
  {
   "cell_type": "code",
   "execution_count": 109,
   "metadata": {},
   "outputs": [],
   "source": [
    "### Academic Group D & E "
   ]
  },
  {
   "cell_type": "code",
   "execution_count": 110,
   "metadata": {},
   "outputs": [],
   "source": [
    "acad_d = job_bins.loc[(job_bins[\"BINS\"]== 8)]"
   ]
  },
  {
   "cell_type": "code",
   "execution_count": 111,
   "metadata": {},
   "outputs": [],
   "source": [
    "#### Casual Non Academic "
   ]
  },
  {
   "cell_type": "code",
   "execution_count": 112,
   "metadata": {},
   "outputs": [],
   "source": [
    "cas_na = job_bins.loc[(job_bins[\"BINS\"]== 9)]"
   ]
  },
  {
   "cell_type": "code",
   "execution_count": 113,
   "metadata": {},
   "outputs": [],
   "source": [
    "#### Casual Academic "
   ]
  },
  {
   "cell_type": "code",
   "execution_count": 114,
   "metadata": {},
   "outputs": [],
   "source": [
    "cas_ac = job_bins.loc[(job_bins[\"BINS\"]== 10)]"
   ]
  },
  {
   "cell_type": "code",
   "execution_count": 115,
   "metadata": {},
   "outputs": [],
   "source": [
    "## SE Class "
   ]
  },
  {
   "cell_type": "code",
   "execution_count": 116,
   "metadata": {},
   "outputs": [],
   "source": [
    "se = job_bins.loc[(job_bins[\"BINS\"]== 11)]"
   ]
  },
  {
   "cell_type": "code",
   "execution_count": 117,
   "metadata": {},
   "outputs": [],
   "source": [
    "### Academic Group ###"
   ]
  },
  {
   "cell_type": "code",
   "execution_count": 118,
   "metadata": {},
   "outputs": [],
   "source": [
    "acadlist = [acad_a, acad_b, acad_c, acad_d,cas_ac]\n",
    "acad_group = pd.concat(acadlist)"
   ]
  },
  {
   "cell_type": "code",
   "execution_count": 119,
   "metadata": {},
   "outputs": [],
   "source": [
    "nalist = [hew1_4, hew5_7, hew8_9, hew10, se, cas_na ]\n",
    "non_acad = pd.concat(nalist)"
   ]
  },
  {
   "cell_type": "code",
   "execution_count": 120,
   "metadata": {},
   "outputs": [],
   "source": [
    "### Linear Reg ###"
   ]
  },
  {
   "cell_type": "code",
   "execution_count": 121,
   "metadata": {},
   "outputs": [
    {
     "name": "stdout",
     "output_type": "stream",
     "text": [
      "                            OLS Regression Results                            \n",
      "==============================================================================\n",
      "Dep. Variable:                  VALUE   R-squared:                       0.044\n",
      "Model:                            OLS   Adj. R-squared:                  0.044\n",
      "Method:                 Least Squares   F-statistic:                     188.8\n",
      "Date:                Wed, 05 Aug 2020   Prob (F-statistic):           4.89e-42\n",
      "Time:                        20:33:59   Log-Likelihood:                -27181.\n",
      "No. Observations:                4095   AIC:                         5.437e+04\n",
      "Df Residuals:                    4093   BIC:                         5.438e+04\n",
      "Df Model:                           1                                         \n",
      "Covariance Type:            nonrobust                                         \n",
      "==============================================================================\n",
      "                 coef    std err          t      P>|t|      [0.025      0.975]\n",
      "------------------------------------------------------------------------------\n",
      "const      -1.291e+04    956.785    -13.495      0.000   -1.48e+04    -1.1e+04\n",
      "YEAR           6.5506      0.477     13.741      0.000       5.616       7.485\n",
      "==============================================================================\n",
      "Omnibus:                      751.299   Durbin-Watson:                   0.104\n",
      "Prob(Omnibus):                  0.000   Jarque-Bera (JB):             1262.094\n",
      "Skew:                           1.214   Prob(JB):                    8.70e-275\n",
      "Kurtosis:                       4.224   Cond. No.                     6.65e+05\n",
      "==============================================================================\n",
      "\n",
      "Warnings:\n",
      "[1] Standard Errors assume that the covariance matrix of the errors is correctly specified.\n",
      "[2] The condition number is large, 6.65e+05. This might indicate that there are\n",
      "strong multicollinearity or other numerical problems.\n"
     ]
    }
   ],
   "source": [
    "X = acad_group[\"YEAR\"]\n",
    "Y = acad_group[\"VALUE\"]\n",
    "X = sm.add_constant(X)\n",
    "model = sm.OLS(Y, X).fit()\n",
    "predictions = model.predict(X) \n",
    "\n",
    "print_model = model.summary()\n",
    "print(print_model)"
   ]
  },
  {
   "cell_type": "code",
   "execution_count": 122,
   "metadata": {},
   "outputs": [
    {
     "data": {
      "image/png": "[encoded data removed]",
      "text/plain": [
       "<Figure size 864x504 with 1 Axes>"
      ]
     },
     "metadata": {
      "needs_background": "light"
     },
     "output_type": "display_data"
    }
   ],
   "source": [
    "plt.rc('figure', figsize=(12, 7))\n",
    "#plt.text(0.01, 0.05, str(model.summary()), {'fontsize': 12}) old approach\n",
    "plt.text(0.01, 0.05, str(model.summary()), {'fontsize': 10}, fontproperties = 'monospace') # approach improved by OP -> monospace!\n",
    "plt.axis('off')\n",
    "plt.tight_layout()\n",
    "plt.savefig('output.png')"
   ]
  },
  {
   "cell_type": "code",
   "execution_count": 123,
   "metadata": {},
   "outputs": [
    {
     "name": "stdout",
     "output_type": "stream",
     "text": [
      "                            OLS Regression Results                            \n",
      "==============================================================================\n",
      "Dep. Variable:                  VALUE   R-squared:                       0.018\n",
      "Model:                            OLS   Adj. R-squared:                  0.018\n",
      "Method:                 Least Squares   F-statistic:                     178.2\n",
      "Date:                Wed, 05 Aug 2020   Prob (F-statistic):           2.63e-40\n",
      "Time:                        20:33:59   Log-Likelihood:                -62331.\n",
      "No. Observations:                9828   AIC:                         1.247e+05\n",
      "Df Residuals:                    9826   BIC:                         1.247e+05\n",
      "Df Model:                           1                                         \n",
      "Covariance Type:            nonrobust                                         \n",
      "==============================================================================\n",
      "                 coef    std err          t      P>|t|      [0.025      0.975]\n",
      "------------------------------------------------------------------------------\n",
      "const      -6017.1092    459.553    -13.093      0.000   -6917.928   -5116.291\n",
      "YEAR           3.0570      0.229     13.351      0.000       2.608       3.506\n",
      "==============================================================================\n",
      "Omnibus:                     4033.721   Durbin-Watson:                   0.044\n",
      "Prob(Omnibus):                  0.000   Jarque-Bera (JB):            17643.869\n",
      "Skew:                           2.010   Prob(JB):                         0.00\n",
      "Kurtosis:                       8.189   Cond. No.                     6.65e+05\n",
      "==============================================================================\n",
      "\n",
      "Warnings:\n",
      "[1] Standard Errors assume that the covariance matrix of the errors is correctly specified.\n",
      "[2] The condition number is large, 6.65e+05. This might indicate that there are\n",
      "strong multicollinearity or other numerical problems.\n"
     ]
    }
   ],
   "source": [
    "X = non_acad[\"YEAR\"]\n",
    "Y = non_acad[\"VALUE\"]\n",
    "X = sm.add_constant(X)\n",
    "model = sm.OLS(Y, X).fit()\n",
    "predictions = model.predict(X) \n",
    "\n",
    "print_model = model.summary()\n",
    "print(print_model)"
   ]
  },
  {
   "cell_type": "code",
   "execution_count": 124,
   "metadata": {},
   "outputs": [
    {
     "data": {
      "image/png": "[encoded data removed]",
      "text/plain": [
       "<Figure size 864x504 with 1 Axes>"
      ]
     },
     "metadata": {
      "needs_background": "light"
     },
     "output_type": "display_data"
    }
   ],
   "source": [
    "plt.rc('figure', figsize=(12, 7))\n",
    "#plt.text(0.01, 0.05, str(model.summary()), {'fontsize': 12}) old approach\n",
    "plt.text(0.01, 0.05, str(model.summary()), {'fontsize': 10}, fontproperties = 'monospace') # approach improved by OP -> monospace!\n",
    "plt.axis('off')\n",
    "plt.tight_layout()\n",
    "plt.savefig('output2.png')"
   ]
  },
  {
   "cell_type": "code",
   "execution_count": 125,
   "metadata": {},
   "outputs": [],
   "source": [
    "### Logistic Regression ###"
   ]
  },
  {
   "cell_type": "code",
   "execution_count": 126,
   "metadata": {},
   "outputs": [
    {
     "data": {
      "text/html": [
       "<div>\n",
       "<style scoped>\n",
       "    .dataframe tbody tr th:only-of-type {\n",
       "        vertical-align: middle;\n",
       "    }\n",
       "\n",
       "    .dataframe tbody tr th {\n",
       "        vertical-align: top;\n",
       "    }\n",
       "\n",
       "    .dataframe thead th {\n",
       "        text-align: right;\n",
       "    }\n",
       "</style>\n",
       "<table border=\"1\" class=\"dataframe\">\n",
       "  <thead>\n",
       "    <tr style=\"text-align: right;\">\n",
       "      <th></th>\n",
       "      <th>JOB_TITLE</th>\n",
       "      <th>JOB ID</th>\n",
       "      <th>YEAR</th>\n",
       "      <th>VALUE</th>\n",
       "      <th>GROUP</th>\n",
       "      <th>MED</th>\n",
       "      <th>BINS</th>\n",
       "      <th>Academic</th>\n",
       "      <th>0</th>\n",
       "      <th>1</th>\n",
       "    </tr>\n",
       "  </thead>\n",
       "  <tbody>\n",
       "    <tr>\n",
       "      <th>2498</th>\n",
       "      <td>SE</td>\n",
       "      <td>17</td>\n",
       "      <td>2002</td>\n",
       "      <td>27.00</td>\n",
       "      <td>3</td>\n",
       "      <td>0</td>\n",
       "      <td>11</td>\n",
       "      <td>0</td>\n",
       "      <td>1</td>\n",
       "      <td>0</td>\n",
       "    </tr>\n",
       "    <tr>\n",
       "      <th>7244</th>\n",
       "      <td>Academic level C</td>\n",
       "      <td>13</td>\n",
       "      <td>1997</td>\n",
       "      <td>121.00</td>\n",
       "      <td>2</td>\n",
       "      <td>1</td>\n",
       "      <td>7</td>\n",
       "      <td>1</td>\n",
       "      <td>0</td>\n",
       "      <td>1</td>\n",
       "    </tr>\n",
       "    <tr>\n",
       "      <th>10596</th>\n",
       "      <td>Academic level C</td>\n",
       "      <td>13</td>\n",
       "      <td>2012</td>\n",
       "      <td>253.00</td>\n",
       "      <td>2</td>\n",
       "      <td>0</td>\n",
       "      <td>7</td>\n",
       "      <td>1</td>\n",
       "      <td>0</td>\n",
       "      <td>1</td>\n",
       "    </tr>\n",
       "    <tr>\n",
       "      <th>8601</th>\n",
       "      <td>Academic level A or below</td>\n",
       "      <td>11</td>\n",
       "      <td>2010</td>\n",
       "      <td>163.00</td>\n",
       "      <td>2</td>\n",
       "      <td>0</td>\n",
       "      <td>5</td>\n",
       "      <td>1</td>\n",
       "      <td>0</td>\n",
       "      <td>1</td>\n",
       "    </tr>\n",
       "    <tr>\n",
       "      <th>6792</th>\n",
       "      <td>Academic level C</td>\n",
       "      <td>13</td>\n",
       "      <td>2000</td>\n",
       "      <td>109.00</td>\n",
       "      <td>3</td>\n",
       "      <td>0</td>\n",
       "      <td>7</td>\n",
       "      <td>1</td>\n",
       "      <td>0</td>\n",
       "      <td>1</td>\n",
       "    </tr>\n",
       "    <tr>\n",
       "      <th>3512</th>\n",
       "      <td>Academic level A or below</td>\n",
       "      <td>11</td>\n",
       "      <td>2012</td>\n",
       "      <td>42.00</td>\n",
       "      <td>3</td>\n",
       "      <td>0</td>\n",
       "      <td>5</td>\n",
       "      <td>1</td>\n",
       "      <td>0</td>\n",
       "      <td>1</td>\n",
       "    </tr>\n",
       "    <tr>\n",
       "      <th>5342</th>\n",
       "      <td>HEW Level 4</td>\n",
       "      <td>4</td>\n",
       "      <td>2016</td>\n",
       "      <td>74.77</td>\n",
       "      <td>3</td>\n",
       "      <td>0</td>\n",
       "      <td>1</td>\n",
       "      <td>0</td>\n",
       "      <td>1</td>\n",
       "      <td>0</td>\n",
       "    </tr>\n",
       "    <tr>\n",
       "      <th>1825</th>\n",
       "      <td>HEW Level 9</td>\n",
       "      <td>9</td>\n",
       "      <td>2002</td>\n",
       "      <td>17.80</td>\n",
       "      <td>3</td>\n",
       "      <td>0</td>\n",
       "      <td>3</td>\n",
       "      <td>0</td>\n",
       "      <td>1</td>\n",
       "      <td>0</td>\n",
       "    </tr>\n",
       "    <tr>\n",
       "      <th>6473</th>\n",
       "      <td>HEW Level 7</td>\n",
       "      <td>7</td>\n",
       "      <td>2013</td>\n",
       "      <td>100.24</td>\n",
       "      <td>2</td>\n",
       "      <td>0</td>\n",
       "      <td>2</td>\n",
       "      <td>0</td>\n",
       "      <td>1</td>\n",
       "      <td>0</td>\n",
       "    </tr>\n",
       "    <tr>\n",
       "      <th>1978</th>\n",
       "      <td>Academic level D and E</td>\n",
       "      <td>14</td>\n",
       "      <td>2000</td>\n",
       "      <td>20.00</td>\n",
       "      <td>3</td>\n",
       "      <td>0</td>\n",
       "      <td>8</td>\n",
       "      <td>1</td>\n",
       "      <td>0</td>\n",
       "      <td>1</td>\n",
       "    </tr>\n",
       "  </tbody>\n",
       "</table>\n",
       "</div>"
      ],
      "text/plain": [
       "                       JOB_TITLE  JOB ID  YEAR   VALUE  GROUP  MED  BINS  \\\n",
       "2498                         SE       17  2002   27.00      3    0    11   \n",
       "7244           Academic level C       13  1997  121.00      2    1     7   \n",
       "10596          Academic level C       13  2012  253.00      2    0     7   \n",
       "8601   Academic level A or below      11  2010  163.00      2    0     5   \n",
       "6792           Academic level C       13  2000  109.00      3    0     7   \n",
       "3512   Academic level A or below      11  2012   42.00      3    0     5   \n",
       "5342                 HEW Level 4       4  2016   74.77      3    0     1   \n",
       "1825                 HEW Level 9       9  2002   17.80      3    0     3   \n",
       "6473                 HEW Level 7       7  2013  100.24      2    0     2   \n",
       "1978      Academic level D and E      14  2000   20.00      3    0     8   \n",
       "\n",
       "       Academic  0  1  \n",
       "2498          0  1  0  \n",
       "7244          1  0  1  \n",
       "10596         1  0  1  \n",
       "8601          1  0  1  \n",
       "6792          1  0  1  \n",
       "3512          1  0  1  \n",
       "5342          0  1  0  \n",
       "1825          0  1  0  \n",
       "6473          0  1  0  \n",
       "1978          1  0  1  "
      ]
     },
     "execution_count": 126,
     "metadata": {},
     "output_type": "execute_result"
    }
   ],
   "source": [
    "acad_group[\"Academic\"] = 1\n",
    "non_acad[\"Academic\"] = 0\n",
    "listy = [acad_group, non_acad]\n",
    "logit_df = pd.concat(listy)\n",
    "logit_df = logit_df.join(pd.get_dummies(logit_df[\"Academic\"]))\n",
    "logit_df.sample(10)"
   ]
  },
  {
   "cell_type": "code",
   "execution_count": 127,
   "metadata": {},
   "outputs": [],
   "source": [
    "features=[\"VALUE\", \"YEAR\", 0,1]\n",
    "X = logit_df[features]\n",
    "X = sm.add_constant(X)\n",
    "y = logit_df[\"MED\"]"
   ]
  },
  {
   "cell_type": "code",
   "execution_count": 128,
   "metadata": {},
   "outputs": [],
   "source": [
    "lm = sm.Logit(y, X)"
   ]
  },
  {
   "cell_type": "code",
   "execution_count": 129,
   "metadata": {},
   "outputs": [
    {
     "name": "stdout",
     "output_type": "stream",
     "text": [
      "Optimization terminated successfully.\n",
      "         Current function value: 0.622116\n",
      "         Iterations 6\n"
     ]
    }
   ],
   "source": [
    "result = lm.fit()"
   ]
  },
  {
   "cell_type": "code",
   "execution_count": 130,
   "metadata": {},
   "outputs": [
    {
     "data": {
      "text/html": [
       "<table class=\"simpletable\">\n",
       "<caption>Logit Regression Results</caption>\n",
       "<tr>\n",
       "  <th>Dep. Variable:</th>          <td>MED</td>       <th>  No. Observations:  </th>  <td> 13923</td> \n",
       "</tr>\n",
       "<tr>\n",
       "  <th>Model:</th>                 <td>Logit</td>      <th>  Df Residuals:      </th>  <td> 13919</td> \n",
       "</tr>\n",
       "<tr>\n",
       "  <th>Method:</th>                 <td>MLE</td>       <th>  Df Model:          </th>  <td>     3</td> \n",
       "</tr>\n",
       "<tr>\n",
       "  <th>Date:</th>            <td>Wed, 05 Aug 2020</td> <th>  Pseudo R-squ.:     </th>  <td>0.09863</td>\n",
       "</tr>\n",
       "<tr>\n",
       "  <th>Time:</th>                <td>20:34:00</td>     <th>  Log-Likelihood:    </th> <td> -8661.7</td>\n",
       "</tr>\n",
       "<tr>\n",
       "  <th>converged:</th>             <td>True</td>       <th>  LL-Null:           </th> <td> -9609.5</td>\n",
       "</tr>\n",
       "<tr>\n",
       "  <th>Covariance Type:</th>     <td>nonrobust</td>    <th>  LLR p-value:       </th>  <td> 0.000</td> \n",
       "</tr>\n",
       "</table>\n",
       "<table class=\"simpletable\">\n",
       "<tr>\n",
       "    <td></td>       <th>coef</th>     <th>std err</th>      <th>z</th>      <th>P>|z|</th>  <th>[0.025</th>    <th>0.975]</th>  \n",
       "</tr>\n",
       "<tr>\n",
       "  <th>const</th> <td>   27.1336</td> <td> 1.19e+06</td> <td> 2.28e-05</td> <td> 1.000</td> <td>-2.34e+06</td> <td> 2.34e+06</td>\n",
       "</tr>\n",
       "<tr>\n",
       "  <th>VALUE</th> <td>    0.0058</td> <td>    0.000</td> <td>   37.292</td> <td> 0.000</td> <td>    0.005</td> <td>    0.006</td>\n",
       "</tr>\n",
       "<tr>\n",
       "  <th>YEAR</th>  <td>   -0.0208</td> <td>    0.003</td> <td>   -6.847</td> <td> 0.000</td> <td>   -0.027</td> <td>   -0.015</td>\n",
       "</tr>\n",
       "<tr>\n",
       "  <th>0</th>     <td>   13.8965</td> <td> 1.19e+06</td> <td> 1.17e-05</td> <td> 1.000</td> <td>-2.34e+06</td> <td> 2.34e+06</td>\n",
       "</tr>\n",
       "<tr>\n",
       "  <th>1</th>     <td>   13.2372</td> <td> 1.19e+06</td> <td> 1.11e-05</td> <td> 1.000</td> <td>-2.34e+06</td> <td> 2.34e+06</td>\n",
       "</tr>\n",
       "</table>"
      ],
      "text/plain": [
       "<class 'statsmodels.iolib.summary.Summary'>\n",
       "\"\"\"\n",
       "                           Logit Regression Results                           \n",
       "==============================================================================\n",
       "Dep. Variable:                    MED   No. Observations:                13923\n",
       "Model:                          Logit   Df Residuals:                    13919\n",
       "Method:                           MLE   Df Model:                            3\n",
       "Date:                Wed, 05 Aug 2020   Pseudo R-squ.:                 0.09863\n",
       "Time:                        20:34:00   Log-Likelihood:                -8661.7\n",
       "converged:                       True   LL-Null:                       -9609.5\n",
       "Covariance Type:            nonrobust   LLR p-value:                     0.000\n",
       "==============================================================================\n",
       "                 coef    std err          z      P>|z|      [0.025      0.975]\n",
       "------------------------------------------------------------------------------\n",
       "const         27.1336   1.19e+06   2.28e-05      1.000   -2.34e+06    2.34e+06\n",
       "VALUE          0.0058      0.000     37.292      0.000       0.005       0.006\n",
       "YEAR          -0.0208      0.003     -6.847      0.000      -0.027      -0.015\n",
       "0             13.8965   1.19e+06   1.17e-05      1.000   -2.34e+06    2.34e+06\n",
       "1             13.2372   1.19e+06   1.11e-05      1.000   -2.34e+06    2.34e+06\n",
       "==============================================================================\n",
       "\"\"\""
      ]
     },
     "execution_count": 130,
     "metadata": {},
     "output_type": "execute_result"
    }
   ],
   "source": [
    "result.summary()"
   ]
  },
  {
   "cell_type": "code",
   "execution_count": 131,
   "metadata": {},
   "outputs": [
    {
     "name": "stdout",
     "output_type": "stream",
     "text": [
      "              0         1            OR\n",
      "const  0.000000       inf  6.081241e+11\n",
      "VALUE  1.005472  1.006081  1.005776e+00\n",
      "YEAR   0.973545  0.985233  9.793716e-01\n",
      "0      0.000000       inf  1.084376e+06\n",
      "1      0.000000       inf  5.608414e+05\n"
     ]
    },
    {
     "name": "stderr",
     "output_type": "stream",
     "text": [
      "/opt/anaconda3/lib/python3.7/site-packages/ipykernel_launcher.py:4: RuntimeWarning: overflow encountered in exp\n",
      "  after removing the cwd from sys.path.\n"
     ]
    }
   ],
   "source": [
    "params = result.params\n",
    "conf = result.conf_int()\n",
    "conf['OR'] = params\n",
    "npe = np.exp(conf)\n",
    "print(npe)"
   ]
  },
  {
   "cell_type": "code",
   "execution_count": 132,
   "metadata": {},
   "outputs": [
    {
     "name": "stdout",
     "output_type": "stream",
     "text": [
      "0.46153846153846156\n"
     ]
    }
   ],
   "source": [
    "print(logit_df.MED.mean())"
   ]
  },
  {
   "cell_type": "code",
   "execution_count": 133,
   "metadata": {},
   "outputs": [
    {
     "name": "stdout",
     "output_type": "stream",
     "text": [
      "const    6.081241e+11\n",
      "VALUE    1.005776e+00\n",
      "YEAR     9.793716e-01\n",
      "0        1.084376e+06\n",
      "1        5.608414e+05\n",
      "dtype: float64\n"
     ]
    }
   ],
   "source": [
    "print(np.exp(result.params))"
   ]
  },
  {
   "cell_type": "code",
   "execution_count": 134,
   "metadata": {},
   "outputs": [
    {
     "data": {
      "text/plain": [
       "0.6452632334985277"
      ]
     },
     "execution_count": 134,
     "metadata": {},
     "output_type": "execute_result"
    }
   ],
   "source": [
    "predicted = result.predict(X)\n",
    "threshold = 0.5\n",
    "predicted_classes = (predicted > threshold).astype(int)\n",
    "from sklearn.metrics import accuracy_score\n",
    "accuracy_score(y, predicted_classes)"
   ]
  },
  {
   "cell_type": "code",
   "execution_count": 135,
   "metadata": {},
   "outputs": [],
   "source": [
    "%matplotlib inline\n",
    "import matplotlib.pyplot as plt\n",
    "from sklearn.metrics import roc_curve, roc_auc_score\n"
   ]
  },
  {
   "cell_type": "code",
   "execution_count": 136,
   "metadata": {},
   "outputs": [
    {
     "data": {
      "image/png": "[encoded data removed]",
      "text/plain": [
       "<Figure size 288x288 with 1 Axes>"
      ]
     },
     "metadata": {
      "needs_background": "light"
     },
     "output_type": "display_data"
    }
   ],
   "source": [
    "plt.figure(figsize = (4, 4))\n",
    "plt.plot(roc_curve(logit_df[[\"MED\"]], predicted)[0], roc_curve(logit_df[[\"MED\"]], predicted)[1])\n",
    "plt.plot([0.0,0.2,0.4,0.6,0.8,1.0],[0.0,0.2,0.4,0.6,0.8,1.0])\n",
    "plt.show()"
   ]
  },
  {
   "cell_type": "code",
   "execution_count": 137,
   "metadata": {},
   "outputs": [
    {
     "data": {
      "image/png": "[encoded data removed]",
      "text/plain": [
       "<Figure size 288x288 with 1 Axes>"
      ]
     },
     "metadata": {
      "needs_background": "light"
     },
     "output_type": "display_data"
    }
   ],
   "source": [
    "plt.figure(figsize = (4, 4))\n",
    "plt.plot(roc_curve(logit_df[[\"MED\"]], predicted_classes)[0], roc_curve(logit_df[[\"MED\"]], predicted_classes)[1])\n",
    "plt.plot([0.0,0.2,0.4,0.6,0.8,1.0],[0.0,0.2,0.4,0.6,0.8,1.0])\n",
    "plt.show()"
   ]
  },
  {
   "cell_type": "code",
   "execution_count": 138,
   "metadata": {},
   "outputs": [
    {
     "data": {
      "text/plain": [
       "0.6321528611444578"
      ]
     },
     "execution_count": 138,
     "metadata": {},
     "output_type": "execute_result"
    }
   ],
   "source": [
    "roc_auc_score(logit_df[\"MED\"], predicted_classes)"
   ]
  },
  {
   "cell_type": "code",
   "execution_count": 139,
   "metadata": {},
   "outputs": [],
   "source": [
    "### autocorreltaion "
   ]
  },
  {
   "cell_type": "code",
   "execution_count": 152,
   "metadata": {},
   "outputs": [
    {
     "data": {
      "text/html": [
       "<div>\n",
       "<style scoped>\n",
       "    .dataframe tbody tr th:only-of-type {\n",
       "        vertical-align: middle;\n",
       "    }\n",
       "\n",
       "    .dataframe tbody tr th {\n",
       "        vertical-align: top;\n",
       "    }\n",
       "\n",
       "    .dataframe thead th {\n",
       "        text-align: right;\n",
       "    }\n",
       "</style>\n",
       "<table border=\"1\" class=\"dataframe\">\n",
       "  <thead>\n",
       "    <tr style=\"text-align: right;\">\n",
       "      <th></th>\n",
       "      <th>JOB_TITLE</th>\n",
       "      <th>JOB ID</th>\n",
       "      <th>YEAR</th>\n",
       "      <th>VALUE</th>\n",
       "      <th>GROUP</th>\n",
       "      <th>MED</th>\n",
       "      <th>BINS</th>\n",
       "      <th>Academic</th>\n",
       "    </tr>\n",
       "  </thead>\n",
       "  <tbody>\n",
       "    <tr>\n",
       "      <th>30</th>\n",
       "      <td>Academic level A or below</td>\n",
       "      <td>11</td>\n",
       "      <td>2014</td>\n",
       "      <td>0.0</td>\n",
       "      <td>3</td>\n",
       "      <td>0</td>\n",
       "      <td>5</td>\n",
       "      <td>1</td>\n",
       "    </tr>\n",
       "    <tr>\n",
       "      <th>52</th>\n",
       "      <td>Academic level A or below</td>\n",
       "      <td>11</td>\n",
       "      <td>2012</td>\n",
       "      <td>0.0</td>\n",
       "      <td>3</td>\n",
       "      <td>0</td>\n",
       "      <td>5</td>\n",
       "      <td>1</td>\n",
       "    </tr>\n",
       "    <tr>\n",
       "      <th>56</th>\n",
       "      <td>Academic level A or below</td>\n",
       "      <td>11</td>\n",
       "      <td>2011</td>\n",
       "      <td>0.0</td>\n",
       "      <td>3</td>\n",
       "      <td>0</td>\n",
       "      <td>5</td>\n",
       "      <td>1</td>\n",
       "    </tr>\n",
       "    <tr>\n",
       "      <th>57</th>\n",
       "      <td>Academic level A or below</td>\n",
       "      <td>11</td>\n",
       "      <td>2013</td>\n",
       "      <td>0.0</td>\n",
       "      <td>3</td>\n",
       "      <td>0</td>\n",
       "      <td>5</td>\n",
       "      <td>1</td>\n",
       "    </tr>\n",
       "    <tr>\n",
       "      <th>69</th>\n",
       "      <td>Academic level A or below</td>\n",
       "      <td>11</td>\n",
       "      <td>2014</td>\n",
       "      <td>0.0</td>\n",
       "      <td>3</td>\n",
       "      <td>0</td>\n",
       "      <td>5</td>\n",
       "      <td>1</td>\n",
       "    </tr>\n",
       "    <tr>\n",
       "      <th>...</th>\n",
       "      <td>...</td>\n",
       "      <td>...</td>\n",
       "      <td>...</td>\n",
       "      <td>...</td>\n",
       "      <td>...</td>\n",
       "      <td>...</td>\n",
       "      <td>...</td>\n",
       "      <td>...</td>\n",
       "    </tr>\n",
       "    <tr>\n",
       "      <th>13751</th>\n",
       "      <td>Casuals non-academic</td>\n",
       "      <td>15</td>\n",
       "      <td>1998</td>\n",
       "      <td>0.0</td>\n",
       "      <td>3</td>\n",
       "      <td>0</td>\n",
       "      <td>9</td>\n",
       "      <td>0</td>\n",
       "    </tr>\n",
       "    <tr>\n",
       "      <th>13752</th>\n",
       "      <td>Casuals non-academic</td>\n",
       "      <td>15</td>\n",
       "      <td>1999</td>\n",
       "      <td>0.0</td>\n",
       "      <td>3</td>\n",
       "      <td>0</td>\n",
       "      <td>9</td>\n",
       "      <td>0</td>\n",
       "    </tr>\n",
       "    <tr>\n",
       "      <th>13885</th>\n",
       "      <td>Casuals non-academic</td>\n",
       "      <td>15</td>\n",
       "      <td>1997</td>\n",
       "      <td>0.0</td>\n",
       "      <td>3</td>\n",
       "      <td>0</td>\n",
       "      <td>9</td>\n",
       "      <td>0</td>\n",
       "    </tr>\n",
       "    <tr>\n",
       "      <th>13886</th>\n",
       "      <td>Casuals non-academic</td>\n",
       "      <td>15</td>\n",
       "      <td>1998</td>\n",
       "      <td>0.0</td>\n",
       "      <td>3</td>\n",
       "      <td>0</td>\n",
       "      <td>9</td>\n",
       "      <td>0</td>\n",
       "    </tr>\n",
       "    <tr>\n",
       "      <th>13887</th>\n",
       "      <td>Casuals non-academic</td>\n",
       "      <td>15</td>\n",
       "      <td>1999</td>\n",
       "      <td>0.0</td>\n",
       "      <td>3</td>\n",
       "      <td>0</td>\n",
       "      <td>9</td>\n",
       "      <td>0</td>\n",
       "    </tr>\n",
       "  </tbody>\n",
       "</table>\n",
       "<p>13923 rows × 8 columns</p>\n",
       "</div>"
      ],
      "text/plain": [
       "                       JOB_TITLE  JOB ID  YEAR  VALUE  GROUP  MED  BINS  \\\n",
       "30     Academic level A or below      11  2014    0.0      3    0     5   \n",
       "52     Academic level A or below      11  2012    0.0      3    0     5   \n",
       "56     Academic level A or below      11  2011    0.0      3    0     5   \n",
       "57     Academic level A or below      11  2013    0.0      3    0     5   \n",
       "69     Academic level A or below      11  2014    0.0      3    0     5   \n",
       "...                          ...     ...   ...    ...    ...  ...   ...   \n",
       "13751       Casuals non-academic      15  1998    0.0      3    0     9   \n",
       "13752       Casuals non-academic      15  1999    0.0      3    0     9   \n",
       "13885       Casuals non-academic      15  1997    0.0      3    0     9   \n",
       "13886       Casuals non-academic      15  1998    0.0      3    0     9   \n",
       "13887       Casuals non-academic      15  1999    0.0      3    0     9   \n",
       "\n",
       "       Academic  \n",
       "30            1  \n",
       "52            1  \n",
       "56            1  \n",
       "57            1  \n",
       "69            1  \n",
       "...         ...  \n",
       "13751         0  \n",
       "13752         0  \n",
       "13885         0  \n",
       "13886         0  \n",
       "13887         0  \n",
       "\n",
       "[13923 rows x 8 columns]"
      ]
     },
     "execution_count": 152,
     "metadata": {},
     "output_type": "execute_result"
    }
   ],
   "source": [
    "acad_group[\"Academic\"] = 1\n",
    "non_acad[\"Academic\"] = 0\n",
    "listy = [acad_group, non_acad]\n",
    "autocorr_df = pd.concat(listy)\n",
    "autocorr_df"
   ]
  },
  {
   "cell_type": "code",
   "execution_count": 141,
   "metadata": {},
   "outputs": [],
   "source": [
    "autocorr_2n3 = autocorr_df.loc[(autocorr_df[\"GROUP\"]== 2)|(autocorr_df[\"GROUP\"]== 3)]\n",
    "autocorr_2n3.set_index(\"YEAR\")\n",
    "autocorr_2n3A = autocorr_2n3.loc[(autocorr_df[\"Academic\"]== 1)]\n",
    "autocorr_2n3N = autocorr_2n3.loc[(autocorr_df[\"Academic\"]== 0)]\n"
   ]
  },
  {
   "cell_type": "code",
   "execution_count": 142,
   "metadata": {},
   "outputs": [],
   "source": [
    "auto_corNmA = autocorr_2n3A.loc[(autocorr_2n3A[\"MED\"]== 0)]\n",
    "\n",
    "auto_corMA = autocorr_2n3A.loc[(autocorr_2n3A[\"MED\"]== 1)]"
   ]
  },
  {
   "cell_type": "code",
   "execution_count": null,
   "metadata": {},
   "outputs": [],
   "source": []
  },
  {
   "cell_type": "code",
   "execution_count": 143,
   "metadata": {},
   "outputs": [
    {
     "data": {
      "text/plain": [
       "0.9554455543974479"
      ]
     },
     "execution_count": 143,
     "metadata": {},
     "output_type": "execute_result"
    }
   ],
   "source": [
    "auto_corMA[\"VALUE\"].autocorr(lag=1)"
   ]
  },
  {
   "cell_type": "code",
   "execution_count": 144,
   "metadata": {},
   "outputs": [
    {
     "data": {
      "text/plain": [
       "0.9808403985226286"
      ]
     },
     "execution_count": 144,
     "metadata": {},
     "output_type": "execute_result"
    }
   ],
   "source": [
    "auto_corNmA[\"VALUE\"].autocorr(lag=1)"
   ]
  },
  {
   "cell_type": "code",
   "execution_count": 145,
   "metadata": {},
   "outputs": [
    {
     "data": {
      "text/plain": [
       "<matplotlib.axes._subplots.AxesSubplot at 0x7ff9afa88a90>"
      ]
     },
     "execution_count": 145,
     "metadata": {},
     "output_type": "execute_result"
    },
    {
     "data": {
      "image/png": "[encoded data removed]",
      "text/plain": [
       "<Figure size 432x288 with 1 Axes>"
      ]
     },
     "metadata": {
      "needs_background": "light"
     },
     "output_type": "display_data"
    }
   ],
   "source": [
    "#uni group 2 & 3 Academic with med\n",
    "pd.plotting.autocorrelation_plot(auto_corMA[\"VALUE\"])"
   ]
  },
  {
   "cell_type": "code",
   "execution_count": 146,
   "metadata": {},
   "outputs": [
    {
     "data": {
      "text/plain": [
       "<matplotlib.axes._subplots.AxesSubplot at 0x7ff9afc82050>"
      ]
     },
     "execution_count": 146,
     "metadata": {},
     "output_type": "execute_result"
    },
    {
     "data": {
      "image/png": "[encoded data removed]",
      "text/plain": [
       "<Figure size 432x288 with 1 Axes>"
      ]
     },
     "metadata": {
      "needs_background": "light"
     },
     "output_type": "display_data"
    }
   ],
   "source": [
    "#uni group 2 & 3 Academic without med\n",
    "pd.plotting.autocorrelation_plot(auto_corNmA[\"VALUE\"])"
   ]
  },
  {
   "cell_type": "code",
   "execution_count": 147,
   "metadata": {},
   "outputs": [],
   "source": [
    "auto_corNN = autocorr_2n3N.loc[(autocorr_2n3N[\"MED\"]== 0)]\n",
    "\n",
    "auto_corMN = autocorr_2n3N.loc[(autocorr_2n3N[\"MED\"]== 1)]"
   ]
  },
  {
   "cell_type": "code",
   "execution_count": 148,
   "metadata": {},
   "outputs": [
    {
     "data": {
      "text/plain": [
       "0.9853623829525485"
      ]
     },
     "execution_count": 148,
     "metadata": {},
     "output_type": "execute_result"
    }
   ],
   "source": [
    "auto_corMN[\"VALUE\"].autocorr(lag=1)"
   ]
  },
  {
   "cell_type": "code",
   "execution_count": 149,
   "metadata": {},
   "outputs": [
    {
     "data": {
      "text/plain": [
       "0.9772027403646562"
      ]
     },
     "execution_count": 149,
     "metadata": {},
     "output_type": "execute_result"
    }
   ],
   "source": [
    "auto_corNN[\"VALUE\"].autocorr(lag=1)"
   ]
  },
  {
   "cell_type": "code",
   "execution_count": 150,
   "metadata": {},
   "outputs": [
    {
     "data": {
      "text/plain": [
       "<matplotlib.axes._subplots.AxesSubplot at 0x7ff9afd8a310>"
      ]
     },
     "execution_count": 150,
     "metadata": {},
     "output_type": "execute_result"
    },
    {
     "data": {
      "image/png": "[encoded data removed]",
      "text/plain": [
       "<Figure size 432x288 with 1 Axes>"
      ]
     },
     "metadata": {
      "needs_background": "light"
     },
     "output_type": "display_data"
    }
   ],
   "source": [
    "#uni group 2 & 3 Non-Academic with med\n",
    "pd.plotting.autocorrelation_plot(auto_corMN[\"VALUE\"])"
   ]
  },
  {
   "cell_type": "code",
   "execution_count": 151,
   "metadata": {},
   "outputs": [
    {
     "data": {
      "text/plain": [
       "<matplotlib.axes._subplots.AxesSubplot at 0x7ff9b0006050>"
      ]
     },
     "execution_count": 151,
     "metadata": {},
     "output_type": "execute_result"
    },
    {
     "data": {
      "image/png": "[encoded data removed]",
      "text/plain": [
       "<Figure size 432x288 with 1 Axes>"
      ]
     },
     "metadata": {
      "needs_background": "light"
     },
     "output_type": "display_data"
    }
   ],
   "source": [
    "#uni group 2 & 3 Non-Academic without med\n",
    "pd.plotting.autocorrelation_plot(auto_corNN[\"VALUE\"])"
   ]
  },
  {
   "cell_type": "code",
   "execution_count": null,
   "metadata": {},
   "outputs": [],
   "source": []
  }
 ],
 "metadata": {
  "kernelspec": {
   "display_name": "Python 3",
   "language": "python",
   "name": "python3"
  },
  "language_info": {
   "codemirror_mode": {
    "name": "ipython",
    "version": 3
   },
   "file_extension": ".py",
   "mimetype": "text/x-python",
   "name": "python",
   "nbconvert_exporter": "python",
   "pygments_lexer": "ipython3",
   "version": "3.7.7"
  }
 },
 "nbformat": 4,
 "nbformat_minor": 4
}
